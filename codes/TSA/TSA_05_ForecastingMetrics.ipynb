{
 "cells": [
  {
   "cell_type": "markdown",
   "id": "fd762187",
   "metadata": {},
   "source": [
    "# Forecasting Metrics\n",
    "\n",
    "Let's understand how to measure the quality of our predictions and take a look at the most commonly used metrics."
   ]
  },
  {
   "cell_type": "markdown",
   "id": "a1c3c928",
   "metadata": {},
   "source": [
    "## R Squared\n",
    "\n",
    "[R Squared](http://scikit-learn.org/stable/modules/model_evaluation.html#r2-score-the-coefficient-of-determination) represents the coefficient of determination, it can be interpreted as the percentage of variance explained by the model. Its range is (−∞,1]\n",
    "\n",
    "$$R^2 = 1 - \\frac{SS_{res}}{SS_{tot}}$$\n"
   ]
  },
  {
   "cell_type": "code",
   "execution_count": 1,
   "id": "ca2319c0",
   "metadata": {},
   "outputs": [],
   "source": [
    "from sklearn.metrics import r2_score"
   ]
  },
  {
   "cell_type": "markdown",
   "id": "8128646a",
   "metadata": {},
   "source": [
    "## Mean Absolute Error\n",
    "\n",
    "[Mean Absolute Error](http://scikit-learn.org/stable/modules/model_evaluation.html#mean-absolute-error) is an interpretable metric because it has the same unit of measurement as the initial series. Its range is [0,+∞).\n",
    "\n",
    "$$MAE = \\frac{\\sum_{i=1}^n{ | y_i - \\hat{y_i} |}}{n}$$\n"
   ]
  },
  {
   "cell_type": "code",
   "execution_count": 2,
   "id": "f44a56d1",
   "metadata": {},
   "outputs": [],
   "source": [
    "from sklearn.metrics import mean_absolute_error"
   ]
  },
  {
   "cell_type": "markdown",
   "id": "259293e0",
   "metadata": {},
   "source": [
    "## Median Absolute Error\n",
    "\n",
    "[Median Absolute Error](http://scikit-learn.org/stable/modules/model_evaluation.html#median-absolute-error) again, it is an interpretable metric that is particularly interesting because it is robust to outliers. Its range is [0,+∞).\n",
    "\n",
    "$$MedAE = median(|y_i - \\hat{y_i}|,...,|y_n - \\hat{y_n}|)$$\n"
   ]
  },
  {
   "cell_type": "code",
   "execution_count": 3,
   "id": "a8b7bd91",
   "metadata": {},
   "outputs": [],
   "source": [
    "from sklearn.metrics import median_absolute_error"
   ]
  },
  {
   "cell_type": "markdown",
   "id": "06446f86",
   "metadata": {},
   "source": [
    "## Mean Squared Error\n",
    "\n",
    "[Mean Squared Error](http://scikit-learn.org/stable/modules/model_evaluation.html#mean-squared-error) is the most commonly used metric that gives a higher penalty to large errors and vice versa. Its range is [0,+∞).\n",
    "\n",
    "$$MSE = \\frac{1}{n} \\sum_{i=1}^n {(y_i - \\hat{y_i})^2}$$\n"
   ]
  },
  {
   "cell_type": "code",
   "execution_count": 4,
   "id": "85079973",
   "metadata": {},
   "outputs": [],
   "source": [
    "from sklearn.metrics import mean_squared_error"
   ]
  },
  {
   "cell_type": "markdown",
   "id": "9c3e4598",
   "metadata": {},
   "source": [
    "## Mean Squared Logarithmic Error\n",
    "\n",
    "[Mean Squared Logarithmic Error](http://scikit-learn.org/stable/modules/model_evaluation.html#mean-squared-logarithmic-error) practically, this is the same as MSE, but we take the logarithm of the series. As a result, we give more weight to small mistakes as well. This is usually used when the data has exponential trends. Its range is [0,+∞).\n",
    "\n",
    "$$MSLE = \\frac{1}{n} \\sum_{i=1}^n {(log(1 + y_i) - log(1 + \\hat{y_i}))^2}$$\n"
   ]
  },
  {
   "cell_type": "code",
   "execution_count": 5,
   "id": "342ed1c0",
   "metadata": {},
   "outputs": [],
   "source": [
    "from sklearn.metrics import mean_squared_log_error"
   ]
  },
  {
   "cell_type": "markdown",
   "id": "de37bfc9",
   "metadata": {},
   "source": [
    "## Mean Absolute Percentage Error\n",
    "\n",
    "The [mean_absolute_percentage_error](https://scikit-learn.org/stable/modules/generated/sklearn.metrics.mean_absolute_percentage_error.html#sklearn.metrics.mean_absolute_percentage_error) (MAPE), also known as mean absolute percentage deviation (MAPD), is an evaluation metric for regression problems. The idea of this metric is to be sensitive to relative errors. It is for example not changed by a global scaling of the target variable.\n",
    "\n",
    "$$MAPE = \\frac{100}{n} \\sum_{i=1}^n {\\frac{|y_i - \\hat{y}_i|}{y_i}}$$\n"
   ]
  },
  {
   "cell_type": "code",
   "execution_count": 6,
   "id": "de901bb2",
   "metadata": {},
   "outputs": [],
   "source": [
    "import numpy as np\n",
    "def mean_absolute_percentage_error(y_true, y_pred): \n",
    "    y_true, y_pred = np.array(y_true), np.array(y_pred)\n",
    "    return np.mean(np.abs((y_true - y_pred) / y_true)) * 100"
   ]
  },
  {
   "cell_type": "code",
   "execution_count": 7,
   "id": "a131a85f",
   "metadata": {},
   "outputs": [
    {
     "data": {
      "text/plain": [
       "26.666666666666668"
      ]
     },
     "execution_count": 7,
     "metadata": {},
     "output_type": "execute_result"
    }
   ],
   "source": [
    "y_true = [1, 10, 1e6]\n",
    "y_pred = [0.9, 15, 1.2e6]\n",
    "mean_absolute_percentage_error(y_true, y_pred)"
   ]
  },
  {
   "cell_type": "markdown",
   "id": "87a035a1",
   "metadata": {},
   "source": [
    "In above example, if we had used MAE (see below), it would have ignored the small magnitude values and only reflected the error in prediction of highest magnitude value. But that problem is resolved in case of MAPE because it calculates relative percentage error with respect to actual output."
   ]
  },
  {
   "cell_type": "code",
   "execution_count": 9,
   "id": "18a51792",
   "metadata": {},
   "outputs": [
    {
     "data": {
      "text/plain": [
       "66668.36666666667"
      ]
     },
     "execution_count": 9,
     "metadata": {},
     "output_type": "execute_result"
    }
   ],
   "source": [
    "mean_absolute_error(y_true, y_pred)"
   ]
  }
 ],
 "metadata": {
  "kernelspec": {
   "display_name": "Python 3",
   "language": "python",
   "name": "python3"
  },
  "language_info": {
   "codemirror_mode": {
    "name": "ipython",
    "version": 3
   },
   "file_extension": ".py",
   "mimetype": "text/x-python",
   "name": "python",
   "nbconvert_exporter": "python",
   "pygments_lexer": "ipython3",
   "version": "3.7.10"
  }
 },
 "nbformat": 4,
 "nbformat_minor": 5
}
