{
 "cells": [
  {
   "cell_type": "code",
   "execution_count": null,
   "metadata": {},
   "outputs": [],
   "source": [
    "!pip3 install ksql"
   ]
  },
  {
   "cell_type": "code",
   "execution_count": null,
   "metadata": {},
   "outputs": [],
   "source": [
    "from ksql import KSQLAPI\n",
    "ksql_client = KSQLAPI('http://ksqldb-server:8088')"
   ]
  },
  {
   "cell_type": "markdown",
   "metadata": {},
   "source": [
    "## Start Sending smoke data via API"
   ]
  },
  {
   "cell_type": "code",
   "execution_count": null,
   "metadata": {},
   "outputs": [],
   "source": [
    "rows = [\n",
    "        {\"sensor\": \"S1\", \"smoke\": False, \"ts\": \"2021-10-23T06:00:00+0200\"},\n",
    "        {\"sensor\": \"S1\", \"smoke\": True, \"ts\": \"2021-10-23T06:00:01+0200\"},\n",
    "        {\"sensor\": \"S1\", \"smoke\": True, \"ts\": \"2021-10-23T06:00:02+0200\"},\n",
    "        {\"sensor\": \"S1\", \"smoke\": True, \"ts\": \"2021-10-23T06:00:03+0200\"},\n",
    "        {\"sensor\": \"S1\", \"smoke\": True, \"ts\": \"2021-10-23T06:00:04+0200\"}\n",
    "    ]\n",
    "\n",
    "results = ksql_client.inserts_stream(\"Smoke_STREAM\", rows)"
   ]
  },
  {
   "cell_type": "markdown",
   "metadata": {},
   "source": [
    "## And now, live data!\n",
    "\n",
    "### causing no fire"
   ]
  },
  {
   "cell_type": "code",
   "execution_count": null,
   "metadata": {},
   "outputs": [],
   "source": [
    "from IPython.display import clear_output\n",
    "from datetime import datetime\n",
    "import pytz\n",
    "import time\n",
    "\n",
    "amsterdam = pytz.timezone('Europe/Amsterdam')\n",
    "\n",
    "while True:\n",
    "    ts = datetime.now().astimezone(amsterdam).strftime(\"%Y-%m-%dT%H:%M:%S%z\")\n",
    "    row = [{\"sensor\": \"S1\",\"smoke\": False,\"ts\": ts}]\n",
    "    results = ksql_client.inserts_stream(\"Smoke_STREAM\", row)\n",
    "    print(row)\n",
    "    time.sleep(10)\n",
    "    clear_output(wait=True)"
   ]
  },
  {
   "cell_type": "markdown",
   "metadata": {},
   "source": [
    "### causing fire (if also the temperature is high)"
   ]
  },
  {
   "cell_type": "code",
   "execution_count": null,
   "metadata": {},
   "outputs": [],
   "source": [
    "from IPython.display import clear_output\n",
    "from datetime import datetime\n",
    "import pytz\n",
    "import time\n",
    "\n",
    "amsterdam = pytz.timezone('Europe/Amsterdam')\n",
    "\n",
    "while True:\n",
    "    ts = datetime.now().astimezone(amsterdam).strftime(\"%Y-%m-%dT%H:%M:%S%z\")\n",
    "    row = [{\"sensor\": \"S1\",\"smoke\": True,\"ts\": ts}]\n",
    "    results = ksql_client.inserts_stream(\"Smoke_STREAM\", row)\n",
    "    print(row)\n",
    "    time.sleep(10)\n",
    "    clear_output(wait=True)"
   ]
  },
  {
   "cell_type": "code",
   "execution_count": null,
   "metadata": {},
   "outputs": [],
   "source": []
  }
 ],
 "metadata": {
  "kernelspec": {
   "display_name": "Python 3 (ipykernel)",
   "language": "python",
   "name": "python3"
  },
  "language_info": {
   "codemirror_mode": {
    "name": "ipython",
    "version": 3
   },
   "file_extension": ".py",
   "mimetype": "text/x-python",
   "name": "python",
   "nbconvert_exporter": "python",
   "pygments_lexer": "ipython3",
   "version": "3.11.7"
  }
 },
 "nbformat": 4,
 "nbformat_minor": 4
}
