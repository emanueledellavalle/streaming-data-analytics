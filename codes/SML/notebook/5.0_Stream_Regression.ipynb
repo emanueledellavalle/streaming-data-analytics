{
 "cells": [
  {
   "cell_type": "markdown",
   "metadata": {},
   "source": [
    "# Stream Regression\n",
    "---\n",
    "\n",
    "## `BikeSharing` dataset\n",
    "\n",
    "**Description:** This dataset contains the hourly count of rental bikes between years 2011 and 2012 in Capital bikeshare system with the corresponding weather and seasonal information. The task is to predict the number of bikes that will be rented.\n",
    "\n",
    "**Features:** 10\n",
    " \n",
    "|       Attribute      | Description |\n",
    "|:--------------------:|:-----------------------------|\n",
    "| `season`             | Season (1:winter, 2:spring, 3:summer, 4:fall)\n",
    "| `yr`                 | Year (0: 2011, 1:2012)\n",
    "| `mnth`               | Month (1 to 12)\n",
    "| `hr`                 | Hour (0 to 23)\n",
    "| `workingday`         | If day is neither weekend nor holiday is 1, otherwise is 0\n",
    "| `weathersit`         | 1) Clear, Few clouds, Partly cloudy, Partly cloudy; 2)Mist + Cloudy, Mist + Broken clouds, Mist + Few clouds, Mist; 3) Light Snow, Light Rain + Thunderstorm + Scattered clouds, Light Rain + Scattered clouds; 4) Heavy Rain + Ice Pallets + Thunderstorm + Mist, Snow + Fog\n",
    "| `temp`               | Normalized temperature in Celsius. The values are derived via (t-t_min)/(t_max-t_min), t_min=-8, t_max=+39\n",
    "| `atemp`              | Normalized feeling temperature in Celsius. The values are derived via (t-t_min)/(t_max-t_min), t_min=-16, t_max=+50\n",
    "| `hum`                | Normalized humidity. The values are divided to 100 (max)\n",
    "| `windspeed`          | Normalized wind speed. The values are divided to 67 (max)\n",
    "\n",
    "\n",
    "**Target:** `cnt` | Count of total rental bikes\n",
    " \n",
    "**Samples:** 17,379\n"
   ]
  },
  {
   "cell_type": "code",
   "execution_count": 14,
   "metadata": {},
   "outputs": [],
   "source": [
    "import pandas as pd\n",
    "from river.stream import iter_pandas\n",
    "from river.metrics import Metrics,MAE,MSE,RMSE\n",
    "from river.evaluate import progressive_val_score\n",
    "from river.preprocessing import StandardScaler\n",
    "from river.drift import ADWIN"
   ]
  },
  {
   "cell_type": "code",
   "execution_count": 3,
   "metadata": {},
   "outputs": [],
   "source": [
    "data = pd.read_csv(\"../datasets/BikeSharing.csv\")\n",
    "features = data.columns[:-1]"
   ]
  },
  {
   "cell_type": "code",
   "execution_count": null,
   "metadata": {},
   "outputs": [],
   "source": []
  },
  {
   "cell_type": "markdown",
   "metadata": {},
   "source": [
    "## Linear Regression\n",
    "\n",
    "---\n",
    "[Linear Regression](https://riverml.xyz/0.10.1/api/linear-model/LinearRegression/) is a simple Linear Regression model"
   ]
  },
  {
   "cell_type": "code",
   "execution_count": 11,
   "metadata": {
    "scrolled": true
   },
   "outputs": [
    {
     "name": "stdout",
     "output_type": "stream",
     "text": [
      "[1,000] MAE: 734.364648, MSE: 50,294,204.597895, RMSE: 7,091.840706\n",
      "[2,000] MAE: 4,247,443,511.282103, MSE: 1,902,404,398,197,491,892,224., RMSE: 43,616,561,054.231361\n",
      "[3,000] MAE: 3,100,783,550.074068, MSE: 1,269,106,155,664,069,361,664., RMSE: 35,624,516,216.561722\n",
      "[4,000] MAE: 2,340,220,990.163503, MSE: 951,831,377,281,212,219,392., RMSE: 30,851,764,573.217075\n",
      "[5,000] MAE: 1,879,635,607.990033, MSE: 761,465,588,073,537,470,464., RMSE: 27,594,665,935.168293\n",
      "[6,000] MAE: 1,570,550,669.094805, MSE: 634,554,851,180,935,905,280., RMSE: 25,190,372,192.187553\n",
      "[7,000] MAE: 1,348,913,300.604527, MSE: 543,904,262,035,912,130,560., RMSE: 23,321,755,123.401672\n",
      "[8,000] MAE: 1,182,636,695.717268, MSE: 475,916,324,834,122,727,424., RMSE: 21,815,506,522.520229\n",
      "[9,000] MAE: 20,678,359,536.491112, MSE: 107,792,216,736,977,771,298,816., RMSE: 328,317,250,136.172058\n",
      "[10,000] MAE: 19,090,827,085.329998, MSE: 97,019,197,942,366,059,102,208., RMSE: 311,479,048,962.151001\n",
      "[11,000] MAE: 17,465,810,909.004089, MSE: 88,199,533,564,886,899,490,816., RMSE: 296,984,062,812.951111\n",
      "[12,000] MAE: 16,061,795,850.629503, MSE: 80,849,630,632,594,339,004,416., RMSE: 284,340,694,647.44989\n",
      "[13,000] MAE: 14,848,738,847.259529, MSE: 74,630,440,941,170,829,819,904., RMSE: 273,185,726,093.386566\n",
      "[14,000] MAE: 13,798,349,938.954319, MSE: 69,299,697,852,647,370,391,552., RMSE: 263,248,357,739.696777\n",
      "[15,000] MAE: 12,893,193,803.467749, MSE: 64,679,725,604,192,890,388,480., RMSE: 254,322,090,279.615479\n",
      "[16,000] MAE: 12,099,205,123.643435, MSE: 60,637,246,655,791,366,144,000., RMSE: 246,246,312,979.080688\n",
      "[17,000] MAE: 11,395,350,937.297428, MSE: 57,070,351,694,040,833,982,464., RMSE: 238,894,017,702.496765\n"
     ]
    },
    {
     "data": {
      "text/plain": [
       "MAE: 11,151,382,853.59709, MSE: 55,825,768,580,521,006,202,880., RMSE: 236,274,773,474.700439"
      ]
     },
     "execution_count": 11,
     "metadata": {},
     "output_type": "execute_result"
    }
   ],
   "source": [
    "from river.linear_model import LinearRegression\n",
    "\n",
    "model = (StandardScaler() |\n",
    "        LinearRegression(intercept_lr=.1))\n",
    "metrics = Metrics(metrics=[MAE(),MSE(),RMSE()])\n",
    "stream = iter_pandas(X=data[features], y=data['cnt'])\n",
    "\n",
    "progressive_val_score(dataset=stream,\n",
    "                      model=model,\n",
    "                      metric=metrics,\n",
    "                      print_every=1000)"
   ]
  },
  {
   "cell_type": "markdown",
   "metadata": {},
   "source": [
    "## KNNRegressor\n",
    "---\n",
    "\n",
    "[KNNRegressor](https://riverml.xyz/0.10.1/api/neighbors/KNNRegressor/) is the KNN adaptation for regression tasks"
   ]
  },
  {
   "cell_type": "code",
   "execution_count": 13,
   "metadata": {},
   "outputs": [
    {
     "name": "stdout",
     "output_type": "stream",
     "text": [
      "[1,000] MAE: 31.739783, MSE: 2,028.1698, RMSE: 45.035206\n",
      "[2,000] MAE: 37.879492, MSE: 2,891.47506, RMSE: 53.772438\n",
      "[3,000] MAE: 46.324594, MSE: 4,634.606493, RMSE: 68.077944\n",
      "[4,000] MAE: 50.804996, MSE: 5,602.46592, RMSE: 74.849622\n",
      "[5,000] MAE: 54.460437, MSE: 6,454.568712, RMSE: 80.340331\n",
      "[6,000] MAE: 56.444697, MSE: 6,929.107473, RMSE: 83.241261\n",
      "[7,000] MAE: 58.613655, MSE: 7,455.649051, RMSE: 86.3461\n",
      "[8,000] MAE: 58.880998, MSE: 7,510.97703, RMSE: 86.665893\n",
      "[9,000] MAE: 59.053509, MSE: 7,535.757209, RMSE: 86.808739\n",
      "[10,000] MAE: 60.668418, MSE: 7,943.33842, RMSE: 89.125408\n",
      "[11,000] MAE: 64.124217, MSE: 9,037.029738, RMSE: 95.063293\n",
      "[12,000] MAE: 67.172315, MSE: 10,018.612197, RMSE: 100.093018\n",
      "[13,000] MAE: 69.249937, MSE: 10,744.05968, RMSE: 103.653556\n",
      "[14,000] MAE: 70.864456, MSE: 11,299.61068, RMSE: 106.299627\n",
      "[15,000] MAE: 72.733986, MSE: 11,939.682621, RMSE: 109.268855\n",
      "[16,000] MAE: 75.343299, MSE: 12,891.33336, RMSE: 113.540008\n",
      "[17,000] MAE: 76.193881, MSE: 13,119.190772, RMSE: 114.539036\n"
     ]
    },
    {
     "data": {
      "text/plain": [
       "MAE: 75.776292, MSE: 13,010.496556, RMSE: 114.063564"
      ]
     },
     "execution_count": 13,
     "metadata": {},
     "output_type": "execute_result"
    }
   ],
   "source": [
    "from river.neighbors import KNNRegressor\n",
    "\n",
    "model = (StandardScaler() |\n",
    "        KNNRegressor(window_size=1000))\n",
    "metrics = Metrics(metrics=[MAE(),MSE(),RMSE()])\n",
    "stream = iter_pandas(X=data[features], y=data['cnt'])\n",
    "\n",
    "progressive_val_score(dataset=stream,\n",
    "                      model=model,\n",
    "                      metric=metrics,\n",
    "                      print_every=1000)"
   ]
  },
  {
   "cell_type": "markdown",
   "metadata": {},
   "source": [
    "## AMRules\n",
    "---\n",
    "\n",
    "\n",
    "[AMRules](https://riverml.xyz/0.10.1/api/rules/AMRules/) is a rule-based algorithm for incremental regression tasks. AMRules relies on the Hoeffding bound to build its rule set, similarly to Hoeffding Trees. The Variance-Ratio heuristic is used to evaluate rules' splits. Moreover, this rule-based regressor has additional capacities not usually found in decision trees."
   ]
  },
  {
   "cell_type": "code",
   "execution_count": 15,
   "metadata": {},
   "outputs": [
    {
     "name": "stdout",
     "output_type": "stream",
     "text": [
      "[1,000] MAE: 33.507247, MSE: 5,622.116784, RMSE: 74.980776\n",
      "[2,000] MAE: 52.32084, MSE: 250,668.713621, RMSE: 500.668267\n",
      "[3,000] MAE: 59.942408, MSE: 170,708.104513, RMSE: 413.168373\n",
      "[4,000] MAE: 64.838398, MSE: 131,021.232855, RMSE: 361.968552\n",
      "[5,000] MAE: 66.454994, MSE: 106,766.973268, RMSE: 326.752159\n",
      "[6,000] MAE: 67.594834, MSE: 90,646.082624, RMSE: 301.074879\n",
      "[7,000] MAE: 67.937541, MSE: 79,049.252776, RMSE: 281.15699\n",
      "[8,000] MAE: 67.494007, MSE: 70,179.43775, RMSE: 264.91402\n",
      "[9,000] MAE: 72.857313, MSE: 124,283.437323, RMSE: 352.538561\n",
      "[10,000] MAE: 73.03285, MSE: 112,950.450191, RMSE: 336.081017\n",
      "[11,000] MAE: 76.19873, MSE: 105,021.626139, RMSE: 324.070403\n",
      "[12,000] MAE: 77.735706, MSE: 97,800.329656, RMSE: 312.730442\n",
      "[13,000] MAE: 79.476189, MSE: 91,907.855189, RMSE: 303.163083\n",
      "[14,000] MAE: 81.420017, MSE: 87,042.543348, RMSE: 295.029733\n",
      "[15,000] MAE: 83.86915, MSE: 83,063.12027, RMSE: 288.206732\n",
      "[16,000] MAE: 86.241087, MSE: 79,751.272963, RMSE: 282.402679\n",
      "[17,000] MAE: 86.666872, MSE: 76,045.444728, RMSE: 275.763385\n"
     ]
    },
    {
     "data": {
      "text/plain": [
       "MAE: 86.357952, MSE: 74,611.607453, RMSE: 273.151254"
      ]
     },
     "execution_count": 15,
     "metadata": {},
     "output_type": "execute_result"
    }
   ],
   "source": [
    "from river.rules import AMRules\n",
    "\n",
    "model = (StandardScaler() |\n",
    "        AMRules(delta=0.01,n_min=100,drift_detector=ADWIN()))\n",
    "metrics = Metrics(metrics=[MAE(),MSE(),RMSE()])\n",
    "stream = iter_pandas(X=data[features], y=data['cnt'])\n",
    "\n",
    "progressive_val_score(dataset=stream,\n",
    "                      model=model,\n",
    "                      metric=metrics,\n",
    "                      print_every=1000)"
   ]
  },
  {
   "cell_type": "markdown",
   "metadata": {},
   "source": [
    "## HoeffdingTreeRegressor\n",
    "---\n",
    "[HoeffdingTreeRegressor](https://riverml.xyz/0.10.1/api/tree/HoeffdingTreeRegressor/) is the HT adaptation for regression tasks"
   ]
  },
  {
   "cell_type": "code",
   "execution_count": 24,
   "metadata": {},
   "outputs": [
    {
     "name": "stdout",
     "output_type": "stream",
     "text": [
      "[1,000] MAE: 34.260726, MSE: 2,139.367317, RMSE: 46.253295\n",
      "[2,000] MAE: 42.346298, MSE: 3,291.316475, RMSE: 57.369996\n",
      "[3,000] MAE: 52.958645, MSE: 5,600.563035, RMSE: 74.83691\n",
      "[4,000] MAE: 63.271664, MSE: 8,084.230651, RMSE: 89.91235\n",
      "[5,000] MAE: 69.716108, MSE: 9,546.598223, RMSE: 97.706695\n",
      "[6,000] MAE: 73.072453, MSE: 10,444.064334, RMSE: 102.196205\n",
      "[7,000] MAE: 76.233093, MSE: 11,300.225546, RMSE: 106.302519\n",
      "[8,000] MAE: 76.445232, MSE: 11,309.974771, RMSE: 106.348365\n",
      "[9,000] MAE: 76.828003, MSE: 13,481.589067, RMSE: 116.110245\n",
      "[10,000] MAE: 78.29345, MSE: 13,637.388587, RMSE: 116.77923\n",
      "[11,000] MAE: 83.407495, MSE: 15,347.522996, RMSE: 123.88512\n",
      "[12,000] MAE: 87.987304, MSE: 16,844.497732, RMSE: 129.786354\n",
      "[13,000] MAE: 92.091729, MSE: 18,236.753275, RMSE: 135.043524\n",
      "[14,000] MAE: 95.831337, MSE: 19,707.705072, RMSE: 140.384134\n",
      "[15,000] MAE: 99.632477, MSE: 21,300.677383, RMSE: 145.947516\n",
      "[16,000] MAE: 102.719366, MSE: 22,622.784604, RMSE: 150.408725\n",
      "[17,000] MAE: 104.01061, MSE: 23,017.170921, RMSE: 151.714109\n"
     ]
    },
    {
     "data": {
      "text/plain": [
       "MAE: 103.479574, MSE: 22,772.319826, RMSE: 150.905003"
      ]
     },
     "execution_count": 24,
     "metadata": {},
     "output_type": "execute_result"
    }
   ],
   "source": [
    "from river.tree import HoeffdingTreeRegressor\n",
    "\n",
    "model = (StandardScaler() |\n",
    "        HoeffdingTreeRegressor(\n",
    "            grace_period=100,\n",
    "            leaf_prediction='adaptive',\n",
    "            model_selector_decay=0.9,\n",
    "            nominal_attributes=['season','yr','mnth','hr','workingday','weathersit']\n",
    "        ))\n",
    "metrics = Metrics(metrics=[MAE(),MSE(),RMSE()])\n",
    "stream = iter_pandas(X=data[features], y=data['cnt'])\n",
    "\n",
    "progressive_val_score(dataset=stream, \n",
    "                      model=model, \n",
    "                      metric=metrics, \n",
    "                      print_every=1000)"
   ]
  },
  {
   "cell_type": "markdown",
   "metadata": {},
   "source": [
    "## HoeffdingAdaptiveTreeRegressor\n",
    "---\n",
    "[HoeffdingAdaptiveTreeRegressor](https://riverml.xyz/0.10.1/api/tree/HoeffdingAdaptiveTreeRegressor/) is the HAT adaptation for regression tasks"
   ]
  },
  {
   "cell_type": "code",
   "execution_count": 25,
   "metadata": {},
   "outputs": [
    {
     "name": "stdout",
     "output_type": "stream",
     "text": [
      "[1,000] MAE: 35.001807, MSE: 2,270.739109, RMSE: 47.652273\n",
      "[2,000] MAE: 41.847828, MSE: 3,281.055302, RMSE: 57.280497\n",
      "[3,000] MAE: 53.082905, MSE: 5,618.142971, RMSE: 74.954273\n",
      "[4,000] MAE: 64.499359, MSE: 8,418.810768, RMSE: 91.754078\n",
      "[5,000] MAE: 71.987436, MSE: 10,218.737638, RMSE: 101.087772\n",
      "[6,000] MAE: 76.150126, MSE: 11,249.063401, RMSE: 106.061602\n",
      "[7,000] MAE: 79.551245, MSE: 12,202.853803, RMSE: 110.466528\n",
      "[8,000] MAE: 79.707999, MSE: 12,179.059142, RMSE: 110.358775\n",
      "[9,000] MAE: 79.515422, MSE: 12,988.892638, RMSE: 113.968823\n",
      "[10,000] MAE: 80.638873, MSE: 13,134.159107, RMSE: 114.604359\n",
      "[11,000] MAE: 84.774982, MSE: 14,555.286035, RMSE: 120.64529\n",
      "[12,000] MAE: 88.168529, MSE: 15,676.450732, RMSE: 125.205634\n",
      "[13,000] MAE: 91.539597, MSE: 16,858.005642, RMSE: 129.838383\n",
      "[14,000] MAE: 94.445932, MSE: 17,981.476185, RMSE: 134.095027\n",
      "[15,000] MAE: 97.789672, MSE: 19,257.35417, RMSE: 138.770869\n",
      "[16,000] MAE: 100.953162, MSE: 20,664.418485, RMSE: 143.751238\n",
      "[17,000] MAE: 102.433648, MSE: 21,095.423987, RMSE: 145.242638\n"
     ]
    },
    {
     "data": {
      "text/plain": [
       "MAE: 101.844693, MSE: 20,906.880953, RMSE: 144.592119"
      ]
     },
     "execution_count": 25,
     "metadata": {},
     "output_type": "execute_result"
    }
   ],
   "source": [
    "from river.tree import HoeffdingAdaptiveTreeRegressor\n",
    "\n",
    "model = (StandardScaler() |\n",
    "        HoeffdingAdaptiveTreeRegressor(\n",
    "            grace_period=100,\n",
    "            leaf_prediction='adaptive',\n",
    "            model_selector_decay=0.9,\n",
    "            seed=1,\n",
    "            nominal_attributes=['season','yr','mnth','hr','workingday','weathersit']\n",
    "        ))\n",
    "metrics = Metrics(metrics=[MAE(),MSE(),RMSE()])\n",
    "stream = iter_pandas(X=data[features], y=data['cnt'])\n",
    "\n",
    "progressive_val_score(dataset=stream, \n",
    "                      model=model, \n",
    "                      metric=metrics, \n",
    "                      print_every=1000)"
   ]
  },
  {
   "cell_type": "markdown",
   "metadata": {},
   "source": [
    "## AdaptiveRandomForestRegressor\n",
    "---\n",
    "[AdaptiveRandomForestRegressor](https://riverml.xyz/0.10.1/api/ensemble/AdaptiveRandomForestRegressor/) is the ARF adaptation for regression tasks"
   ]
  },
  {
   "cell_type": "code",
   "execution_count": 26,
   "metadata": {},
   "outputs": [
    {
     "name": "stdout",
     "output_type": "stream",
     "text": [
      "[1,000] MAE: 73,390.266636, MSE: 2,478,472,297,465.033203, RMSE: 1,574,316.454041\n",
      "[2,000] MAE: 101,803.6373, MSE: 3,432,470,623,264.700195, RMSE: 1,852,692.803264\n",
      "[3,000] MAE: 41,118,242.996925, MSE: 739,898,386,154,961,792., RMSE: 860,173,462.828842\n",
      "[4,000] MAE: 34,195,568.978765, MSE: 569,261,378,689,023,232., RMSE: 754,494,121.04338\n",
      "[5,000] MAE: 32,315,922.651088, MSE: 506,357,461,448,505,984., RMSE: 711,587,985.739294\n",
      "[6,000] MAE: 26,941,860.253836, MSE: 421,965,365,653,812,096., RMSE: 649,588,612.626339\n",
      "[7,000] MAE: 23,093,074.847054, MSE: 361,684,599,132,727,424., RMSE: 601,402,194.153569\n",
      "[8,000] MAE: 20,315,134.673458, MSE: 316,496,947,997,419,456., RMSE: 562,580,614.665507\n",
      "[9,000] MAE: 595,195,477.072112, MSE: 101,258,607,543,250,845,696., RMSE: 10,062,733,601.922037\n",
      "[10,000] MAE: 876,060,405.260741, MSE: 110,606,335,643,349,467,136., RMSE: 10,516,954,675.349203\n",
      "[11,000] MAE: 819,411,830.691403, MSE: 100,807,872,717,806,927,872., RMSE: 10,040,312,381.485296\n",
      "[12,000] MAE: 753,738,761.878075, MSE: 92,418,526,205,528,522,752., RMSE: 9,613,455,476.857866\n",
      "[13,000] MAE: 696,909,157.633928, MSE: 85,312,371,337,596,796,928., RMSE: 9,236,469,636.045841\n",
      "[14,000] MAE: 648,059,979.866665, MSE: 79,220,895,548,558,229,504., RMSE: 8,900,612,088.421684\n",
      "[15,000] MAE: 605,018,501.537478, MSE: 73,939,588,375,282,139,136., RMSE: 8,598,813,195.742895\n",
      "[16,000] MAE: 567,532,341.150033, MSE: 69,319,012,183,133,339,648., RMSE: 8,325,803,996.199607\n",
      "[17,000] MAE: 544,028,550.232497, MSE: 65,336,044,633,971,736,576., RMSE: 8,083,071,485.145467\n"
     ]
    },
    {
     "data": {
      "text/plain": [
       "MAE: 536,743,210.290123, MSE: 63,952,909,276,441,198,592., RMSE: 7,997,056,288.187623"
      ]
     },
     "execution_count": 26,
     "metadata": {},
     "output_type": "execute_result"
    }
   ],
   "source": [
    "from river.ensemble import AdaptiveRandomForestRegressor\n",
    "\n",
    "model = (StandardScaler() |\n",
    "        AdaptiveRandomForestRegressor(\n",
    "            n_models=10,\n",
    "            seed=1,\n",
    "            model_selector_decay=0.9,\n",
    "            nominal_attributes=['season','yr','mnth','hr','workingday','weathersit']\n",
    "        ))\n",
    "metrics = Metrics(metrics=[MAE(),MSE(),RMSE()])\n",
    "stream = iter_pandas(X=data[features], y=data['cnt'])\n",
    "\n",
    "progressive_val_score(dataset=stream, \n",
    "                      model=model, \n",
    "                      metric=metrics, \n",
    "                      print_every=1000)"
   ]
  },
  {
   "cell_type": "markdown",
   "metadata": {},
   "source": [
    "## SRPRegressor\n",
    "---\n",
    "[SRPRegressor](https://riverml.xyz/0.10.1/api/ensemble/SRPRegressor/) is the SRP adaptation for regression tasks"
   ]
  },
  {
   "cell_type": "code",
   "execution_count": 28,
   "metadata": {},
   "outputs": [
    {
     "name": "stdout",
     "output_type": "stream",
     "text": [
      "[1,000] MAE: 30.304474, MSE: 1,757.366478, RMSE: 41.920955\n",
      "[2,000] MAE: 35.91108, MSE: 2,463.020948, RMSE: 49.628832\n",
      "[3,000] MAE: 43.131877, MSE: 3,792.085638, RMSE: 61.579913\n",
      "[4,000] MAE: 51.327357, MSE: 5,509.607297, RMSE: 74.226729\n",
      "[5,000] MAE: 56.775195, MSE: 6,693.651539, RMSE: 81.814739\n",
      "[6,000] MAE: 60.424789, MSE: 7,513.512907, RMSE: 86.680522\n",
      "[7,000] MAE: 63.234028, MSE: 8,115.817745, RMSE: 90.087834\n",
      "[8,000] MAE: 63.841815, MSE: 8,204.824294, RMSE: 90.580485\n",
      "[9,000] MAE: 63.014434, MSE: 7,993.930374, RMSE: 89.408782\n",
      "[10,000] MAE: 63.456958, MSE: 8,091.877784, RMSE: 89.954865\n",
      "[11,000] MAE: 67.528103, MSE: 9,221.403159, RMSE: 96.028137\n",
      "[12,000] MAE: 71.615129, MSE: 10,451.284559, RMSE: 102.231524\n",
      "[13,000] MAE: 75.307547, MSE: 11,592.865917, RMSE: 107.670172\n",
      "[14,000] MAE: 78.564245, MSE: 12,666.556327, RMSE: 112.545797\n",
      "[15,000] MAE: 81.963688, MSE: 13,831.954871, RMSE: 117.609332\n",
      "[16,000] MAE: 84.853817, MSE: 14,872.001225, RMSE: 121.950815\n",
      "[17,000] MAE: 85.857387, MSE: 15,099.753141, RMSE: 122.881053\n"
     ]
    },
    {
     "data": {
      "text/plain": [
       "MAE: 85.153796, MSE: 14,936.651044, RMSE: 122.215592"
      ]
     },
     "execution_count": 28,
     "metadata": {},
     "output_type": "execute_result"
    }
   ],
   "source": [
    "from river.ensemble import SRPRegressor\n",
    "from river.tree import HoeffdingTreeRegressor\n",
    "\n",
    "model = (StandardScaler() |\n",
    "        SRPRegressor(\n",
    "            n_models=10,\n",
    "            seed=1,\n",
    "            drift_detector=ADWIN(delta=0.001),\n",
    "            warning_detector=ADWIN(delta=0.01),\n",
    "            model = HoeffdingTreeRegressor(\n",
    "                grace_period=100,\n",
    "                leaf_prediction='adaptive',\n",
    "                model_selector_decay=0.9,\n",
    "                nominal_attributes=['season','yr','mnth','hr','workingday','weathersit']\n",
    "            )            \n",
    "        ))\n",
    "metrics = Metrics(metrics=[MAE(),MSE(),RMSE()])\n",
    "stream = iter_pandas(X=data[features], y=data['cnt'])\n",
    "\n",
    "progressive_val_score(dataset=stream, \n",
    "                      model=model, \n",
    "                      metric=metrics, \n",
    "                      print_every=1000)"
   ]
  }
 ],
 "metadata": {
  "kernelspec": {
   "display_name": "Python 3 (ipykernel)",
   "language": "python",
   "name": "python3"
  },
  "language_info": {
   "codemirror_mode": {
    "name": "ipython",
    "version": 3
   },
   "file_extension": ".py",
   "mimetype": "text/x-python",
   "name": "python",
   "nbconvert_exporter": "python",
   "pygments_lexer": "ipython3",
   "version": "3.11.3"
  }
 },
 "nbformat": 4,
 "nbformat_minor": 4
}
