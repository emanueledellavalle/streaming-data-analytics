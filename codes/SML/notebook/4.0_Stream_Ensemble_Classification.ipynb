{
 "cells": [
  {
   "cell_type": "markdown",
   "metadata": {},
   "source": [
    "# Stream Ensemble Classification\n",
    "---\n",
    "\n",
    "## `NEWeather` dataset\n",
    "\n",
    "**Description:** The National Oceanic and Atmospheric Administration (NOAA),\n",
    "has compiled a database of weather measurements from over 7,000 weather \n",
    "stations worldwide. Records date back to the mid-1900s. Daily measurements\n",
    "include a variety of features (temperature, pressure, wind speed, etc.) as\n",
    "well as a series of indicators for precipitation and other weather-related\n",
    "events. The `NEweather` dataset contains data from this database, specifically\n",
    "from the Offutt Air Force Base in Bellevue, Nebraska ranging for over 50 years\n",
    "(1949-1999).\n",
    "\n",
    "**Features:** 8 Daily weather measurements\n",
    " \n",
    "|       Attribute      | Description |\n",
    "|:--------------------:|:-----------------------------|\n",
    "| `temp`                   | Temperature\n",
    "| `dew_pnt`                | Dew Point\n",
    "| `sea_lvl_press`          | Sea Level Pressure\n",
    "| `visibility`             | Visibility\n",
    "| `avg_wind_spd`           | Average Wind Speed\n",
    "| `max_sustained_wind_spd` | Maximum Sustained Wind Speed\n",
    "| `max_temp`               | Maximum Temperature\n",
    "| `min_temp`               | Minimum Temperature\n",
    "\n",
    "\n",
    "**Class:** `rain` | 0: no rain, 1: rain\n",
    " \n",
    "**Samples:** 18,159\n"
   ]
  },
  {
   "cell_type": "code",
   "execution_count": 1,
   "metadata": {},
   "outputs": [],
   "source": [
    "import pandas as pd\n",
    "from river.stream import iter_pandas\n",
    "from river.metrics import Metrics,Accuracy,BalancedAccuracy,CohenKappa,GeometricMean,Rolling\n",
    "from river.evaluate import progressive_val_score"
   ]
  },
  {
   "cell_type": "code",
   "execution_count": 2,
   "metadata": {},
   "outputs": [],
   "source": [
    "data = pd.read_csv(\"../datasets/NEweather.csv\")\n",
    "features = data.columns[:-1]"
   ]
  },
  {
   "cell_type": "markdown",
   "metadata": {},
   "source": [
    "## Online Bagging\n",
    "\n",
    "---\n",
    "[Online Bagging](https://riverml.xyz/0.10.1/api/ensemble/BaggingClassifier/) is an Online bootstrap aggregation for classification."
   ]
  },
  {
   "cell_type": "code",
   "execution_count": 3,
   "metadata": {
    "scrolled": true
   },
   "outputs": [
    {
     "name": "stdout",
     "output_type": "stream",
     "text": [
      "[1,000] Accuracy: 70.77%, BalancedAccuracy: 67.47%, GeometricMean: 66.80%, CohenKappa: 34.45%\n",
      "[2,000] Accuracy: 70.29%, BalancedAccuracy: 66.94%, GeometricMean: 66.42%, CohenKappa: 32.37%\n",
      "[3,000] Accuracy: 71.29%, BalancedAccuracy: 62.56%, GeometricMean: 59.04%, CohenKappa: 26.45%\n",
      "[4,000] Accuracy: 71.82%, BalancedAccuracy: 61.73%, GeometricMean: 56.61%, CohenKappa: 25.72%\n",
      "[5,000] Accuracy: 72.67%, BalancedAccuracy: 62.70%, GeometricMean: 57.67%, CohenKappa: 27.97%\n",
      "[6,000] Accuracy: 73.18%, BalancedAccuracy: 63.95%, GeometricMean: 59.71%, CohenKappa: 30.34%\n",
      "[7,000] Accuracy: 74.10%, BalancedAccuracy: 65.01%, GeometricMean: 61.06%, CohenKappa: 32.60%\n",
      "[8,000] Accuracy: 73.83%, BalancedAccuracy: 64.93%, GeometricMean: 61.02%, CohenKappa: 32.39%\n",
      "[9,000] Accuracy: 73.95%, BalancedAccuracy: 64.68%, GeometricMean: 60.30%, CohenKappa: 32.20%\n",
      "[10,000] Accuracy: 74.11%, BalancedAccuracy: 64.59%, GeometricMean: 60.03%, CohenKappa: 32.14%\n",
      "[11,000] Accuracy: 74.56%, BalancedAccuracy: 64.71%, GeometricMean: 59.98%, CohenKappa: 32.57%\n",
      "[12,000] Accuracy: 74.81%, BalancedAccuracy: 64.54%, GeometricMean: 59.55%, CohenKappa: 32.39%\n",
      "[13,000] Accuracy: 74.93%, BalancedAccuracy: 64.68%, GeometricMean: 59.55%, CohenKappa: 32.83%\n",
      "[14,000] Accuracy: 74.83%, BalancedAccuracy: 64.98%, GeometricMean: 59.94%, CohenKappa: 33.50%\n",
      "[15,000] Accuracy: 75.03%, BalancedAccuracy: 65.22%, GeometricMean: 60.23%, CohenKappa: 34.04%\n",
      "[16,000] Accuracy: 75.00%, BalancedAccuracy: 65.76%, GeometricMean: 61.10%, CohenKappa: 35.04%\n",
      "[17,000] Accuracy: 75.05%, BalancedAccuracy: 66.26%, GeometricMean: 62.02%, CohenKappa: 35.85%\n",
      "[18,000] Accuracy: 74.69%, BalancedAccuracy: 66.42%, GeometricMean: 62.56%, CohenKappa: 35.88%\n"
     ]
    },
    {
     "data": {
      "text/plain": [
       "Accuracy: 74.68%, BalancedAccuracy: 66.38%, GeometricMean: 62.53%, CohenKappa: 35.78%"
      ]
     },
     "execution_count": 3,
     "metadata": {},
     "output_type": "execute_result"
    }
   ],
   "source": [
    "from river.ensemble import BaggingClassifier\n",
    "from river.tree import HoeffdingTreeClassifier\n",
    "\n",
    "model = BaggingClassifier(model=HoeffdingTreeClassifier(),\n",
    "                          n_models=10,\n",
    "                          seed=42)\n",
    "metrics = Metrics(metrics=[Accuracy(),BalancedAccuracy(),GeometricMean(),CohenKappa()])\n",
    "stream = iter_pandas(X=data[features], y=data['rain'])\n",
    "\n",
    "progressive_val_score(dataset=stream,\n",
    "                      model=model,\n",
    "                      metric=metrics,\n",
    "                      print_every=1000)"
   ]
  },
  {
   "cell_type": "markdown",
   "metadata": {},
   "source": [
    "## Leveraging Bagging\n",
    "---\n",
    "\n",
    "[Leveraging Bagging](https://riverml.xyz/0.10.1/api/ensemble/LeveragingBaggingClassifier/) is an improvement over the Oza Bagging algorithm. The bagging performance is leveraged by increasing the re-sampling. It uses a poisson distribution to simulate the re-sampling process. To increase re-sampling it uses a higher w value of the Poisson distribution (agerage number of events), 6 by default, increasing the input space diversity, by attributing a different range of weights to the data samples.\n",
    "\n",
    "To deal with concept drift, Leveraging Bagging uses the ADWIN algorithm to monitor the performance of each member of the enemble If concept drift is detected, the worst member of the ensemble (based on the error estimation by ADWIN) is replaced by a new (empty) classifier."
   ]
  },
  {
   "cell_type": "code",
   "execution_count": 4,
   "metadata": {},
   "outputs": [
    {
     "name": "stdout",
     "output_type": "stream",
     "text": [
      "[1,000] Accuracy: 76.48%, BalancedAccuracy: 73.05%, GeometricMean: 72.38%, CohenKappa: 46.29%\n",
      "[2,000] Accuracy: 78.04%, BalancedAccuracy: 71.86%, GeometricMean: 70.18%, CohenKappa: 45.52%\n",
      "[3,000] Accuracy: 78.53%, BalancedAccuracy: 70.76%, GeometricMean: 68.33%, CohenKappa: 44.29%\n",
      "[4,000] Accuracy: 78.02%, BalancedAccuracy: 69.92%, GeometricMean: 67.08%, CohenKappa: 42.99%\n",
      "[5,000] Accuracy: 77.88%, BalancedAccuracy: 69.91%, GeometricMean: 67.10%, CohenKappa: 42.92%\n",
      "[6,000] Accuracy: 77.81%, BalancedAccuracy: 70.48%, GeometricMean: 68.09%, CohenKappa: 43.60%\n",
      "[7,000] Accuracy: 78.25%, BalancedAccuracy: 71.20%, GeometricMean: 69.05%, CohenKappa: 44.86%\n",
      "[8,000] Accuracy: 77.85%, BalancedAccuracy: 70.79%, GeometricMean: 68.56%, CohenKappa: 44.05%\n",
      "[9,000] Accuracy: 77.75%, BalancedAccuracy: 70.38%, GeometricMean: 67.88%, CohenKappa: 43.57%\n",
      "[10,000] Accuracy: 77.98%, BalancedAccuracy: 70.44%, GeometricMean: 67.87%, CohenKappa: 43.83%\n",
      "[11,000] Accuracy: 78.14%, BalancedAccuracy: 70.44%, GeometricMean: 67.84%, CohenKappa: 43.86%\n",
      "[12,000] Accuracy: 78.25%, BalancedAccuracy: 70.38%, GeometricMean: 67.74%, CohenKappa: 43.74%\n",
      "[13,000] Accuracy: 78.39%, BalancedAccuracy: 70.70%, GeometricMean: 68.12%, CohenKappa: 44.44%\n",
      "[14,000] Accuracy: 78.28%, BalancedAccuracy: 70.92%, GeometricMean: 68.39%, CohenKappa: 44.90%\n",
      "[15,000] Accuracy: 78.45%, BalancedAccuracy: 71.18%, GeometricMean: 68.72%, CohenKappa: 45.42%\n",
      "[16,000] Accuracy: 78.52%, BalancedAccuracy: 71.70%, GeometricMean: 69.41%, CohenKappa: 46.37%\n",
      "[17,000] Accuracy: 78.45%, BalancedAccuracy: 71.93%, GeometricMean: 69.82%, CohenKappa: 46.60%\n",
      "[18,000] Accuracy: 78.22%, BalancedAccuracy: 72.22%, GeometricMean: 70.39%, CohenKappa: 46.81%\n"
     ]
    },
    {
     "data": {
      "text/plain": [
       "Accuracy: 78.24%, BalancedAccuracy: 72.22%, GeometricMean: 70.38%, CohenKappa: 46.79%"
      ]
     },
     "execution_count": 4,
     "metadata": {},
     "output_type": "execute_result"
    }
   ],
   "source": [
    "from river.ensemble import LeveragingBaggingClassifier\n",
    "from river.tree import HoeffdingTreeClassifier\n",
    "\n",
    "model = LeveragingBaggingClassifier(model=HoeffdingTreeClassifier(),\n",
    "                          n_models=10,\n",
    "                          seed=42)\n",
    "metrics = Metrics(metrics=[Accuracy(),BalancedAccuracy(),GeometricMean(),CohenKappa()])\n",
    "stream = iter_pandas(X=data[features], y=data['rain'])\n",
    "\n",
    "progressive_val_score(dataset=stream,\n",
    "                      model=model,\n",
    "                      metric=metrics,\n",
    "                      print_every=1000)"
   ]
  },
  {
   "cell_type": "markdown",
   "metadata": {},
   "source": [
    "## AdaptiveRandomForest\n",
    "---\n",
    "\n",
    "\n",
    "\n",
    "The 3 most important aspects of [ARF](https://riverml.xyz/0.10.1/api/ensemble/AdaptiveRandomForestClassifier/) are:\n",
    "- inducing diversity through re-sampling\n",
    "- inducing diversity through randomly selecting subsets of features for node splits\n",
    "- drift detectors per base tree, which cause selective resets in response to drifts\n",
    "\n",
    "It also allows training background trees, which start training if a warning is detected and replace the active tree if the warning escalates to a drift."
   ]
  },
  {
   "cell_type": "code",
   "execution_count": 5,
   "metadata": {},
   "outputs": [
    {
     "name": "stdout",
     "output_type": "stream",
     "text": [
      "[1,000] Accuracy: 74.37%, BalancedAccuracy: 66.35%, GeometricMean: 62.20%, CohenKappa: 35.94%\n",
      "[2,000] Accuracy: 76.84%, BalancedAccuracy: 67.23%, GeometricMean: 62.80%, CohenKappa: 38.44%\n",
      "[3,000] Accuracy: 77.33%, BalancedAccuracy: 66.70%, GeometricMean: 61.77%, CohenKappa: 37.72%\n",
      "[4,000] Accuracy: 77.37%, BalancedAccuracy: 67.05%, GeometricMean: 62.14%, CohenKappa: 38.53%\n",
      "[5,000] Accuracy: 77.46%, BalancedAccuracy: 67.50%, GeometricMean: 62.87%, CohenKappa: 39.34%\n",
      "[6,000] Accuracy: 77.45%, BalancedAccuracy: 68.11%, GeometricMean: 64.06%, CohenKappa: 40.21%\n",
      "[7,000] Accuracy: 78.08%, BalancedAccuracy: 69.10%, GeometricMean: 65.47%, CohenKappa: 42.10%\n",
      "[8,000] Accuracy: 77.68%, BalancedAccuracy: 69.01%, GeometricMean: 65.53%, CohenKappa: 41.69%\n",
      "[9,000] Accuracy: 77.62%, BalancedAccuracy: 68.71%, GeometricMean: 64.94%, CohenKappa: 41.34%\n",
      "[10,000] Accuracy: 77.74%, BalancedAccuracy: 68.66%, GeometricMean: 64.78%, CohenKappa: 41.33%\n",
      "[11,000] Accuracy: 78.00%, BalancedAccuracy: 68.80%, GeometricMean: 64.97%, CohenKappa: 41.65%\n",
      "[12,000] Accuracy: 78.19%, BalancedAccuracy: 68.91%, GeometricMean: 65.13%, CohenKappa: 41.84%\n",
      "[13,000] Accuracy: 78.27%, BalancedAccuracy: 69.19%, GeometricMean: 65.49%, CohenKappa: 42.44%\n",
      "[14,000] Accuracy: 78.06%, BalancedAccuracy: 69.32%, GeometricMean: 65.63%, CohenKappa: 42.69%\n",
      "[15,000] Accuracy: 78.21%, BalancedAccuracy: 69.52%, GeometricMean: 65.89%, CohenKappa: 43.14%\n",
      "[16,000] Accuracy: 78.20%, BalancedAccuracy: 69.97%, GeometricMean: 66.53%, CohenKappa: 43.94%\n",
      "[17,000] Accuracy: 78.26%, BalancedAccuracy: 70.30%, GeometricMean: 67.06%, CohenKappa: 44.48%\n",
      "[18,000] Accuracy: 78.05%, BalancedAccuracy: 70.74%, GeometricMean: 67.92%, CohenKappa: 44.91%\n"
     ]
    },
    {
     "data": {
      "text/plain": [
       "Accuracy: 78.04%, BalancedAccuracy: 70.70%, GeometricMean: 67.89%, CohenKappa: 44.80%"
      ]
     },
     "execution_count": 5,
     "metadata": {},
     "output_type": "execute_result"
    }
   ],
   "source": [
    "from river.ensemble import AdaptiveRandomForestClassifier\n",
    "\n",
    "model = AdaptiveRandomForestClassifier(n_models=10)\n",
    "metrics = Metrics(metrics=[Accuracy(),BalancedAccuracy(),GeometricMean(),CohenKappa()])\n",
    "stream = iter_pandas(X=data[features], y=data['rain'])\n",
    "\n",
    "progressive_val_score(dataset=stream,\n",
    "                      model=model,\n",
    "                      metric=metrics,\n",
    "                      print_every=1000)"
   ]
  },
  {
   "cell_type": "markdown",
   "metadata": {},
   "source": [
    "## StreamingRandomPatches\n",
    "---\n",
    "[SRP](https://riverml.xyz/0.10.1/api/ensemble/SRPClassifier/) is an ensemble method that simulates bagging or random subspaces. The default algorithm uses both bagging and random subspaces, namely Random Patches. The default base estimator is a Hoeffding Tree, but other base estimators can be used (differently from random forest variations)."
   ]
  },
  {
   "cell_type": "code",
   "execution_count": 6,
   "metadata": {},
   "outputs": [
    {
     "name": "stdout",
     "output_type": "stream",
     "text": [
      "[1,000] Accuracy: 74.77%, BalancedAccuracy: 67.28%, GeometricMean: 63.73%, CohenKappa: 37.59%\n",
      "[2,000] Accuracy: 76.49%, BalancedAccuracy: 66.64%, GeometricMean: 61.95%, CohenKappa: 37.27%\n",
      "[3,000] Accuracy: 77.89%, BalancedAccuracy: 67.07%, GeometricMean: 61.97%, CohenKappa: 38.83%\n",
      "[4,000] Accuracy: 77.99%, BalancedAccuracy: 67.64%, GeometricMean: 62.74%, CohenKappa: 40.01%\n",
      "[5,000] Accuracy: 78.06%, BalancedAccuracy: 67.94%, GeometricMean: 63.20%, CohenKappa: 40.59%\n",
      "[6,000] Accuracy: 77.93%, BalancedAccuracy: 68.11%, GeometricMean: 63.60%, CohenKappa: 40.72%\n",
      "[7,000] Accuracy: 78.37%, BalancedAccuracy: 68.79%, GeometricMean: 64.63%, CohenKappa: 42.02%\n",
      "[8,000] Accuracy: 77.95%, BalancedAccuracy: 68.55%, GeometricMean: 64.42%, CohenKappa: 41.38%\n",
      "[9,000] Accuracy: 77.90%, BalancedAccuracy: 68.42%, GeometricMean: 64.12%, CohenKappa: 41.26%\n",
      "[10,000] Accuracy: 78.09%, BalancedAccuracy: 68.56%, GeometricMean: 64.27%, CohenKappa: 41.58%\n",
      "[11,000] Accuracy: 78.34%, BalancedAccuracy: 68.67%, GeometricMean: 64.40%, CohenKappa: 41.87%\n",
      "[12,000] Accuracy: 78.50%, BalancedAccuracy: 68.61%, GeometricMean: 64.28%, CohenKappa: 41.80%\n",
      "[13,000] Accuracy: 78.58%, BalancedAccuracy: 68.92%, GeometricMean: 64.70%, CohenKappa: 42.45%\n",
      "[14,000] Accuracy: 78.31%, BalancedAccuracy: 69.05%, GeometricMean: 64.88%, CohenKappa: 42.63%\n",
      "[15,000] Accuracy: 78.39%, BalancedAccuracy: 69.19%, GeometricMean: 65.07%, CohenKappa: 42.91%\n",
      "[16,000] Accuracy: 78.34%, BalancedAccuracy: 69.64%, GeometricMean: 65.77%, CohenKappa: 43.70%\n",
      "[17,000] Accuracy: 78.46%, BalancedAccuracy: 70.08%, GeometricMean: 66.47%, CohenKappa: 44.43%\n",
      "[18,000] Accuracy: 78.34%, BalancedAccuracy: 70.55%, GeometricMean: 67.34%, CohenKappa: 45.01%\n"
     ]
    },
    {
     "data": {
      "text/plain": [
       "Accuracy: 78.37%, BalancedAccuracy: 70.53%, GeometricMean: 67.31%, CohenKappa: 44.97%"
      ]
     },
     "execution_count": 6,
     "metadata": {},
     "output_type": "execute_result"
    }
   ],
   "source": [
    "from river.ensemble import SRPClassifier\n",
    "from river.tree import HoeffdingTreeClassifier\n",
    "\n",
    "model = SRPClassifier(model=HoeffdingTreeClassifier(),\n",
    "                      n_models=10,\n",
    "                      seed=42)\n",
    "metrics = Metrics(metrics=[Accuracy(),BalancedAccuracy(),GeometricMean(),CohenKappa()])\n",
    "stream = iter_pandas(X=data[features], y=data['rain'])\n",
    "\n",
    "progressive_val_score(dataset=stream, \n",
    "                      model=model, \n",
    "                      metric=metrics, \n",
    "                      print_every=1000)"
   ]
  },
  {
   "cell_type": "markdown",
   "metadata": {},
   "source": [
    "## Concept Drift Impact\n",
    "\n",
    "Concept drift can negatively impact learning methods if not properly handled. Multiple real-world applications suffer **model degradation** as the models can not adapt to changes in the data.\n",
    "\n",
    "---\n",
    "## `AGRAWAL` dataset\n",
    "\n",
    "We will load the data from a csv file. The data was generated using the `AGRAWAL` data generator with 3 **gradual drifts** at the 5k, 10k, and 15k marks. It contains 9 features, 6 numeric and 3 categorical.\n",
    "\n",
    "There are 10 functions for generating binary class labels from the features. These functions determine whether a **loan** should be approved.\n",
    "\n",
    "| Feature    | Description            | Values                                                                |\n",
    "|------------|------------------------|-----------------------------------------------------------------------|\n",
    "| `salary`     | salary                 | uniformly distributed from 20k to 150k                                |\n",
    "| `commission` | commission             | if (salary <   75k) then 0 else uniformly distributed from 10k to 75k |\n",
    "| `age`        | age                    | uniformly distributed from 20 to 80                                   |\n",
    "| `elevel`     | education level        | uniformly chosen from 0 to 4                                          |\n",
    "| `car`        | car maker              | uniformly chosen from 1 to 20                                         |\n",
    "| `zipcode`    | zip code of the town   | uniformly chosen from 0 to 8                                          |\n",
    "| `hvalue`     | value of the house     | uniformly distributed from 50k x zipcode to 100k x zipcode            |\n",
    "| `hyears`     | years house owned      | uniformly distributed from 1 to 30                                    |\n",
    "| `loan`       | total loan amount      | uniformly distributed from 0 to 500k                                  |\n",
    "\n",
    "**Class:** `y` | 0: no loan, 1: loan\n",
    " \n",
    "**Samples:** 20,000\n",
    "\n",
    "`elevel`, `car`, and `zipcode` are categorical features."
   ]
  },
  {
   "cell_type": "code",
   "execution_count": 7,
   "metadata": {},
   "outputs": [],
   "source": [
    "data = pd.read_csv(\"../datasets/agr_a_20k.csv\")\n",
    "features = data.columns[:-1]"
   ]
  },
  {
   "cell_type": "markdown",
   "metadata": {},
   "source": [
    "Since there are several drifts, to better track the model behaviour, let's use a [Rolling Window](https://riverml.xyz/0.10.1/api/metrics/Rolling/) to compute the performance. It is a fixed size wrapper for computing metrics ovear a window. When the window is full, the oldest element is removed. In this way, the performance refers to the most recent data, possibly affected by a concept drift"
   ]
  },
  {
   "cell_type": "markdown",
   "metadata": {},
   "source": [
    "## ADWIN Online Bagging\n",
    "\n",
    "---\n",
    "[ADWIN Online Bagging](https://riverml.xyz/0.10.1/api/ensemble/ADWINBaggingClassifier/) is the online bagging method with the addition of the ADWIN algorithm as a change detector. If concept drift is detected, the worst member of the ensemble (based on the error estimation by ADWIN) is replaced by a new (empty) classifier."
   ]
  },
  {
   "cell_type": "code",
   "execution_count": 8,
   "metadata": {},
   "outputs": [
    {
     "name": "stdout",
     "output_type": "stream",
     "text": [
      "[500] Accuracy: 79.16%, BalancedAccuracy: 71.24%, GeometricMean: 67.10%, CohenKappa: 47.58%\t(rolling 500)\n",
      "[1,000] Accuracy: 84.00%, BalancedAccuracy: 76.81%, GeometricMean: 73.77%, CohenKappa: 59.78%\t(rolling 500)\n",
      "[1,500] Accuracy: 88.40%, BalancedAccuracy: 86.09%, GeometricMean: 85.72%, CohenKappa: 74.05%\t(rolling 500)\n",
      "[2,000] Accuracy: 93.00%, BalancedAccuracy: 93.27%, GeometricMean: 93.27%, CohenKappa: 84.73%\t(rolling 500)\n",
      "[2,500] Accuracy: 89.20%, BalancedAccuracy: 87.31%, GeometricMean: 87.14%, CohenKappa: 75.10%\t(rolling 500)\n",
      "[3,000] Accuracy: 89.60%, BalancedAccuracy: 88.16%, GeometricMean: 88.06%, CohenKappa: 76.55%\t(rolling 500)\n",
      "[3,500] Accuracy: 91.00%, BalancedAccuracy: 90.61%, GeometricMean: 90.61%, CohenKappa: 79.37%\t(rolling 500)\n",
      "[4,000] Accuracy: 93.20%, BalancedAccuracy: 91.28%, GeometricMean: 91.13%, CohenKappa: 84.00%\t(rolling 500)\n",
      "[4,500] Accuracy: 87.00%, BalancedAccuracy: 84.39%, GeometricMean: 84.00%, CohenKappa: 70.31%\t(rolling 500)\n",
      "[5,000] Accuracy: 90.60%, BalancedAccuracy: 87.66%, GeometricMean: 87.17%, CohenKappa: 78.29%\t(rolling 500)\n",
      "[5,500] Accuracy: 51.40%, BalancedAccuracy: 53.81%, GeometricMean: 52.04%, CohenKappa: 7.05%\t(rolling 500)\n",
      "[6,000] Accuracy: 64.40%, BalancedAccuracy: 64.15%, GeometricMean: 64.13%, CohenKappa: 27.51%\t(rolling 500)\n",
      "[6,500] Accuracy: 63.20%, BalancedAccuracy: 61.35%, GeometricMean: 60.95%, CohenKappa: 22.30%\t(rolling 500)\n",
      "[7,000] Accuracy: 62.60%, BalancedAccuracy: 60.81%, GeometricMean: 60.25%, CohenKappa: 21.61%\t(rolling 500)\n",
      "[7,500] Accuracy: 66.00%, BalancedAccuracy: 65.11%, GeometricMean: 64.93%, CohenKappa: 30.04%\t(rolling 500)\n",
      "[8,000] Accuracy: 73.00%, BalancedAccuracy: 70.36%, GeometricMean: 69.58%, CohenKappa: 41.39%\t(rolling 500)\n",
      "[8,500] Accuracy: 61.20%, BalancedAccuracy: 56.62%, GeometricMean: 53.71%, CohenKappa: 13.74%\t(rolling 500)\n",
      "[9,000] Accuracy: 64.80%, BalancedAccuracy: 61.34%, GeometricMean: 59.78%, CohenKappa: 23.17%\t(rolling 500)\n",
      "[9,500] Accuracy: 61.80%, BalancedAccuracy: 59.51%, GeometricMean: 58.48%, CohenKappa: 19.23%\t(rolling 500)\n",
      "[10,000] Accuracy: 63.20%, BalancedAccuracy: 60.68%, GeometricMean: 59.59%, CohenKappa: 21.64%\t(rolling 500)\n",
      "[10,500] Accuracy: 52.80%, BalancedAccuracy: 55.16%, GeometricMean: 54.70%, CohenKappa: 8.87%\t(rolling 500)\n",
      "[11,000] Accuracy: 60.80%, BalancedAccuracy: 60.66%, GeometricMean: 60.66%, CohenKappa: 19.43%\t(rolling 500)\n",
      "[11,500] Accuracy: 69.80%, BalancedAccuracy: 68.08%, GeometricMean: 67.81%, CohenKappa: 35.50%\t(rolling 500)\n",
      "[12,000] Accuracy: 73.60%, BalancedAccuracy: 67.75%, GeometricMean: 65.30%, CohenKappa: 37.57%\t(rolling 500)\n",
      "[12,500] Accuracy: 80.40%, BalancedAccuracy: 74.21%, GeometricMean: 72.06%, CohenKappa: 52.06%\t(rolling 500)\n",
      "[13,000] Accuracy: 78.80%, BalancedAccuracy: 71.11%, GeometricMean: 67.41%, CohenKappa: 46.82%\t(rolling 500)\n",
      "[13,500] Accuracy: 76.80%, BalancedAccuracy: 64.83%, GeometricMean: 57.02%, CohenKappa: 35.19%\t(rolling 500)\n",
      "[14,000] Accuracy: 81.60%, BalancedAccuracy: 74.69%, GeometricMean: 72.12%, CohenKappa: 53.95%\t(rolling 500)\n",
      "[14,500] Accuracy: 79.40%, BalancedAccuracy: 72.15%, GeometricMean: 68.76%, CohenKappa: 48.89%\t(rolling 500)\n",
      "[15,000] Accuracy: 81.80%, BalancedAccuracy: 75.85%, GeometricMean: 73.20%, CohenKappa: 56.38%\t(rolling 500)\n",
      "[15,500] Accuracy: 58.60%, BalancedAccuracy: 61.91%, GeometricMean: 58.84%, CohenKappa: 21.83%\t(rolling 500)\n",
      "[16,000] Accuracy: 66.80%, BalancedAccuracy: 68.96%, GeometricMean: 68.04%, CohenKappa: 35.48%\t(rolling 500)\n",
      "[16,500] Accuracy: 62.20%, BalancedAccuracy: 63.59%, GeometricMean: 63.41%, CohenKappa: 24.75%\t(rolling 500)\n",
      "[17,000] Accuracy: 65.20%, BalancedAccuracy: 66.42%, GeometricMean: 66.23%, CohenKappa: 30.74%\t(rolling 500)\n",
      "[17,500] Accuracy: 67.40%, BalancedAccuracy: 68.35%, GeometricMean: 68.17%, CohenKappa: 35.15%\t(rolling 500)\n",
      "[18,000] Accuracy: 73.20%, BalancedAccuracy: 71.76%, GeometricMean: 71.54%, CohenKappa: 43.14%\t(rolling 500)\n",
      "[18,500] Accuracy: 68.80%, BalancedAccuracy: 67.30%, GeometricMean: 67.12%, CohenKappa: 33.42%\t(rolling 500)\n",
      "[19,000] Accuracy: 71.00%, BalancedAccuracy: 69.89%, GeometricMean: 69.72%, CohenKappa: 39.45%\t(rolling 500)\n",
      "[19,500] Accuracy: 71.40%, BalancedAccuracy: 69.78%, GeometricMean: 69.49%, CohenKappa: 39.25%\t(rolling 500)\n",
      "[20,000] Accuracy: 68.40%, BalancedAccuracy: 67.54%, GeometricMean: 67.44%, CohenKappa: 34.38%\t(rolling 500)\n"
     ]
    },
    {
     "data": {
      "text/plain": [
       "Accuracy: 68.40%, BalancedAccuracy: 67.54%, GeometricMean: 67.44%, CohenKappa: 34.38%\t(rolling 500)"
      ]
     },
     "execution_count": 8,
     "metadata": {},
     "output_type": "execute_result"
    }
   ],
   "source": [
    "from river.ensemble import ADWINBaggingClassifier\n",
    "from river.tree import HoeffdingTreeClassifier\n",
    "\n",
    "model = ADWINBaggingClassifier(model=HoeffdingTreeClassifier(nominal_attributes=['elevel', 'car', 'zipcode']),\n",
    "                          n_models=10,\n",
    "                          seed=42)\n",
    "#metrics = Metrics(metrics=[Accuracy(),BalancedAccuracy(),GeometricMean(),CohenKappa()])\n",
    "metrics = Rolling(metric=Metrics(metrics=[Accuracy(),BalancedAccuracy(),GeometricMean(),CohenKappa()]),window_size=500)\n",
    "stream = iter_pandas(X=data[features], y=data['class'])\n",
    "\n",
    "progressive_val_score(dataset=stream,\n",
    "                      model=model,\n",
    "                      metric=metrics,\n",
    "                      print_every=500)"
   ]
  },
  {
   "cell_type": "markdown",
   "metadata": {},
   "source": [
    "## Leveraging Bagging"
   ]
  },
  {
   "cell_type": "code",
   "execution_count": 9,
   "metadata": {},
   "outputs": [
    {
     "name": "stdout",
     "output_type": "stream",
     "text": [
      "[500] Accuracy: 70.14%, BalancedAccuracy: 62.38%, GeometricMean: 57.80%, CohenKappa: 26.97%\t(rolling 500)\n",
      "[1,000] Accuracy: 76.20%, BalancedAccuracy: 68.70%, GeometricMean: 64.98%, CohenKappa: 41.08%\t(rolling 500)\n",
      "[1,500] Accuracy: 81.60%, BalancedAccuracy: 76.42%, GeometricMean: 74.27%, CohenKappa: 56.84%\t(rolling 500)\n",
      "[2,000] Accuracy: 83.60%, BalancedAccuracy: 77.74%, GeometricMean: 75.55%, CohenKappa: 60.29%\t(rolling 500)\n",
      "[2,500] Accuracy: 83.60%, BalancedAccuracy: 78.28%, GeometricMean: 76.85%, CohenKappa: 60.10%\t(rolling 500)\n",
      "[3,000] Accuracy: 84.60%, BalancedAccuracy: 79.63%, GeometricMean: 78.21%, CohenKappa: 63.13%\t(rolling 500)\n",
      "[3,500] Accuracy: 86.80%, BalancedAccuracy: 81.81%, GeometricMean: 80.78%, CohenKappa: 67.26%\t(rolling 500)\n",
      "[4,000] Accuracy: 89.00%, BalancedAccuracy: 84.98%, GeometricMean: 84.27%, CohenKappa: 73.33%\t(rolling 500)\n",
      "[4,500] Accuracy: 86.80%, BalancedAccuracy: 83.37%, GeometricMean: 82.69%, CohenKappa: 69.35%\t(rolling 500)\n",
      "[5,000] Accuracy: 89.80%, BalancedAccuracy: 87.62%, GeometricMean: 87.34%, CohenKappa: 76.85%\t(rolling 500)\n",
      "[5,500] Accuracy: 54.60%, BalancedAccuracy: 55.44%, GeometricMean: 55.23%, CohenKappa: 10.40%\t(rolling 500)\n",
      "[6,000] Accuracy: 54.60%, BalancedAccuracy: 53.04%, GeometricMean: 52.53%, CohenKappa: 6.01%\t(rolling 500)\n",
      "[6,500] Accuracy: 60.80%, BalancedAccuracy: 56.61%, GeometricMean: 54.35%, CohenKappa: 13.57%\t(rolling 500)\n",
      "[7,000] Accuracy: 61.40%, BalancedAccuracy: 57.65%, GeometricMean: 54.98%, CohenKappa: 15.90%\t(rolling 500)\n",
      "[7,500] Accuracy: 66.60%, BalancedAccuracy: 64.25%, GeometricMean: 62.97%, CohenKappa: 29.19%\t(rolling 500)\n",
      "[8,000] Accuracy: 68.60%, BalancedAccuracy: 65.34%, GeometricMean: 64.05%, CohenKappa: 31.39%\t(rolling 500)\n",
      "[8,500] Accuracy: 69.00%, BalancedAccuracy: 66.00%, GeometricMean: 64.96%, CohenKappa: 32.54%\t(rolling 500)\n",
      "[9,000] Accuracy: 68.60%, BalancedAccuracy: 64.80%, GeometricMean: 63.03%, CohenKappa: 30.63%\t(rolling 500)\n",
      "[9,500] Accuracy: 67.60%, BalancedAccuracy: 64.31%, GeometricMean: 62.33%, CohenKappa: 29.70%\t(rolling 500)\n",
      "[10,000] Accuracy: 68.00%, BalancedAccuracy: 65.08%, GeometricMean: 63.71%, CohenKappa: 30.96%\t(rolling 500)\n",
      "[10,500] Accuracy: 51.80%, BalancedAccuracy: 55.75%, GeometricMean: 54.47%, CohenKappa: 9.60%\t(rolling 500)\n",
      "[11,000] Accuracy: 63.80%, BalancedAccuracy: 63.51%, GeometricMean: 63.51%, CohenKappa: 24.87%\t(rolling 500)\n",
      "[11,500] Accuracy: 83.20%, BalancedAccuracy: 83.09%, GeometricMean: 83.08%, CohenKappa: 64.42%\t(rolling 500)\n",
      "[12,000] Accuracy: 82.60%, BalancedAccuracy: 79.47%, GeometricMean: 78.89%, CohenKappa: 60.26%\t(rolling 500)\n",
      "[12,500] Accuracy: 83.00%, BalancedAccuracy: 77.89%, GeometricMean: 76.49%, CohenKappa: 59.04%\t(rolling 500)\n",
      "[13,000] Accuracy: 84.00%, BalancedAccuracy: 79.29%, GeometricMean: 78.08%, CohenKappa: 61.82%\t(rolling 500)\n",
      "[13,500] Accuracy: 88.80%, BalancedAccuracy: 84.99%, GeometricMean: 84.42%, CohenKappa: 72.63%\t(rolling 500)\n",
      "[14,000] Accuracy: 90.20%, BalancedAccuracy: 87.55%, GeometricMean: 87.24%, CohenKappa: 76.99%\t(rolling 500)\n",
      "[14,500] Accuracy: 88.80%, BalancedAccuracy: 86.37%, GeometricMean: 86.06%, CohenKappa: 74.29%\t(rolling 500)\n",
      "[15,000] Accuracy: 89.40%, BalancedAccuracy: 86.84%, GeometricMean: 86.41%, CohenKappa: 75.97%\t(rolling 500)\n",
      "[15,500] Accuracy: 54.20%, BalancedAccuracy: 56.45%, GeometricMean: 54.91%, CohenKappa: 12.03%\t(rolling 500)\n",
      "[16,000] Accuracy: 64.40%, BalancedAccuracy: 61.76%, GeometricMean: 60.21%, CohenKappa: 24.14%\t(rolling 500)\n",
      "[16,500] Accuracy: 65.60%, BalancedAccuracy: 60.48%, GeometricMean: 57.88%, CohenKappa: 21.79%\t(rolling 500)\n",
      "[17,000] Accuracy: 71.80%, BalancedAccuracy: 66.75%, GeometricMean: 63.45%, CohenKappa: 35.83%\t(rolling 500)\n",
      "[17,500] Accuracy: 67.40%, BalancedAccuracy: 63.80%, GeometricMean: 60.98%, CohenKappa: 28.96%\t(rolling 500)\n",
      "[18,000] Accuracy: 69.80%, BalancedAccuracy: 65.55%, GeometricMean: 63.40%, CohenKappa: 32.48%\t(rolling 500)\n",
      "[18,500] Accuracy: 72.20%, BalancedAccuracy: 68.27%, GeometricMean: 67.06%, CohenKappa: 37.29%\t(rolling 500)\n",
      "[19,000] Accuracy: 69.20%, BalancedAccuracy: 65.59%, GeometricMean: 63.58%, CohenKappa: 32.47%\t(rolling 500)\n",
      "[19,500] Accuracy: 67.20%, BalancedAccuracy: 63.48%, GeometricMean: 61.78%, CohenKappa: 27.74%\t(rolling 500)\n",
      "[20,000] Accuracy: 67.80%, BalancedAccuracy: 64.25%, GeometricMean: 62.47%, CohenKappa: 29.48%\t(rolling 500)\n"
     ]
    },
    {
     "data": {
      "text/plain": [
       "Accuracy: 67.80%, BalancedAccuracy: 64.25%, GeometricMean: 62.47%, CohenKappa: 29.48%\t(rolling 500)"
      ]
     },
     "execution_count": 9,
     "metadata": {},
     "output_type": "execute_result"
    }
   ],
   "source": [
    "from river.ensemble import LeveragingBaggingClassifier\n",
    "from river.tree import HoeffdingTreeClassifier\n",
    "\n",
    "model = LeveragingBaggingClassifier(model=HoeffdingTreeClassifier(nominal_attributes=['elevel', 'car', 'zipcode']),\n",
    "                          n_models=10,\n",
    "                          seed=42)\n",
    "#metrics = Metrics(metrics=[Accuracy(),BalancedAccuracy(),GeometricMean(),CohenKappa()])\n",
    "metrics = Rolling(metric=Metrics(metrics=[Accuracy(),BalancedAccuracy(),GeometricMean(),CohenKappa()]),window_size=500)\n",
    "stream = iter_pandas(X=data[features], y=data['class'])\n",
    "\n",
    "progressive_val_score(dataset=stream,\n",
    "                      model=model,\n",
    "                      metric=metrics,\n",
    "                      print_every=500)"
   ]
  },
  {
   "cell_type": "markdown",
   "metadata": {},
   "source": [
    "## AdaptiveRandomForest"
   ]
  },
  {
   "cell_type": "code",
   "execution_count": 10,
   "metadata": {},
   "outputs": [
    {
     "name": "stdout",
     "output_type": "stream",
     "text": [
      "[500] Accuracy: 65.53%, BalancedAccuracy: 56.98%, GeometricMean: 50.79%, CohenKappa: 15.29%\t(rolling 500)\n",
      "[1,000] Accuracy: 68.80%, BalancedAccuracy: 59.07%, GeometricMean: 51.49%, CohenKappa: 20.51%\t(rolling 500)\n",
      "[1,500] Accuracy: 73.40%, BalancedAccuracy: 66.16%, GeometricMean: 61.19%, CohenKappa: 35.78%\t(rolling 500)\n",
      "[2,000] Accuracy: 75.00%, BalancedAccuracy: 67.66%, GeometricMean: 63.64%, CohenKappa: 38.80%\t(rolling 500)\n",
      "[2,500] Accuracy: 73.00%, BalancedAccuracy: 62.80%, GeometricMean: 55.89%, CohenKappa: 29.28%\t(rolling 500)\n",
      "[3,000] Accuracy: 73.80%, BalancedAccuracy: 64.36%, GeometricMean: 57.74%, CohenKappa: 32.78%\t(rolling 500)\n",
      "[3,500] Accuracy: 78.60%, BalancedAccuracy: 69.58%, GeometricMean: 65.50%, CohenKappa: 43.83%\t(rolling 500)\n",
      "[4,000] Accuracy: 78.40%, BalancedAccuracy: 68.55%, GeometricMean: 63.10%, CohenKappa: 42.61%\t(rolling 500)\n",
      "[4,500] Accuracy: 75.20%, BalancedAccuracy: 66.50%, GeometricMean: 60.84%, CohenKappa: 37.32%\t(rolling 500)\n",
      "[5,000] Accuracy: 72.60%, BalancedAccuracy: 64.01%, GeometricMean: 57.96%, CohenKappa: 31.52%\t(rolling 500)\n",
      "[5,500] Accuracy: 47.80%, BalancedAccuracy: 52.42%, GeometricMean: 45.38%, CohenKappa: 4.29%\t(rolling 500)\n",
      "[6,000] Accuracy: 53.20%, BalancedAccuracy: 57.21%, GeometricMean: 53.99%, CohenKappa: 12.83%\t(rolling 500)\n",
      "[6,500] Accuracy: 59.60%, BalancedAccuracy: 57.48%, GeometricMean: 56.92%, CohenKappa: 14.70%\t(rolling 500)\n",
      "[7,000] Accuracy: 64.00%, BalancedAccuracy: 58.70%, GeometricMean: 53.34%, CohenKappa: 18.73%\t(rolling 500)\n",
      "[7,500] Accuracy: 61.60%, BalancedAccuracy: 56.98%, GeometricMean: 51.14%, CohenKappa: 14.94%\t(rolling 500)\n",
      "[8,000] Accuracy: 66.40%, BalancedAccuracy: 59.71%, GeometricMean: 53.48%, CohenKappa: 21.30%\t(rolling 500)\n",
      "[8,500] Accuracy: 65.60%, BalancedAccuracy: 60.45%, GeometricMean: 57.00%, CohenKappa: 22.11%\t(rolling 500)\n",
      "[9,000] Accuracy: 66.60%, BalancedAccuracy: 60.62%, GeometricMean: 55.79%, CohenKappa: 22.95%\t(rolling 500)\n",
      "[9,500] Accuracy: 66.20%, BalancedAccuracy: 61.06%, GeometricMean: 55.84%, CohenKappa: 23.85%\t(rolling 500)\n",
      "[10,000] Accuracy: 66.40%, BalancedAccuracy: 61.27%, GeometricMean: 56.66%, CohenKappa: 24.19%\t(rolling 500)\n",
      "[10,500] Accuracy: 44.80%, BalancedAccuracy: 50.80%, GeometricMean: 47.48%, CohenKappa: 1.27%\t(rolling 500)\n",
      "[11,000] Accuracy: 49.20%, BalancedAccuracy: 53.64%, GeometricMean: 51.99%, CohenKappa: 5.98%\t(rolling 500)\n",
      "[11,500] Accuracy: 66.80%, BalancedAccuracy: 64.38%, GeometricMean: 63.82%, CohenKappa: 28.48%\t(rolling 500)\n",
      "[12,000] Accuracy: 66.20%, BalancedAccuracy: 61.44%, GeometricMean: 59.66%, CohenKappa: 23.25%\t(rolling 500)\n",
      "[12,500] Accuracy: 69.80%, BalancedAccuracy: 63.34%, GeometricMean: 60.56%, CohenKappa: 27.97%\t(rolling 500)\n",
      "[13,000] Accuracy: 71.00%, BalancedAccuracy: 63.13%, GeometricMean: 58.74%, CohenKappa: 28.60%\t(rolling 500)\n",
      "[13,500] Accuracy: 77.20%, BalancedAccuracy: 67.31%, GeometricMean: 62.30%, CohenKappa: 39.21%\t(rolling 500)\n",
      "[14,000] Accuracy: 76.40%, BalancedAccuracy: 67.76%, GeometricMean: 63.26%, CohenKappa: 39.65%\t(rolling 500)\n",
      "[14,500] Accuracy: 75.80%, BalancedAccuracy: 67.95%, GeometricMean: 63.71%, CohenKappa: 39.76%\t(rolling 500)\n",
      "[15,000] Accuracy: 72.00%, BalancedAccuracy: 64.75%, GeometricMean: 60.06%, CohenKappa: 32.40%\t(rolling 500)\n",
      "[15,500] Accuracy: 48.60%, BalancedAccuracy: 52.88%, GeometricMean: 46.66%, CohenKappa: 5.16%\t(rolling 500)\n",
      "[16,000] Accuracy: 59.40%, BalancedAccuracy: 61.08%, GeometricMean: 60.45%, CohenKappa: 20.81%\t(rolling 500)\n",
      "[16,500] Accuracy: 64.20%, BalancedAccuracy: 60.93%, GeometricMean: 59.89%, CohenKappa: 21.83%\t(rolling 500)\n",
      "[17,000] Accuracy: 68.60%, BalancedAccuracy: 65.21%, GeometricMean: 63.72%, CohenKappa: 31.30%\t(rolling 500)\n",
      "[17,500] Accuracy: 71.20%, BalancedAccuracy: 68.02%, GeometricMean: 65.98%, CohenKappa: 37.61%\t(rolling 500)\n",
      "[18,000] Accuracy: 73.60%, BalancedAccuracy: 69.23%, GeometricMean: 67.09%, CohenKappa: 40.50%\t(rolling 500)\n",
      "[18,500] Accuracy: 71.40%, BalancedAccuracy: 66.84%, GeometricMean: 65.17%, CohenKappa: 34.76%\t(rolling 500)\n",
      "[19,000] Accuracy: 66.00%, BalancedAccuracy: 60.90%, GeometricMean: 56.49%, CohenKappa: 23.35%\t(rolling 500)\n",
      "[19,500] Accuracy: 70.00%, BalancedAccuracy: 64.83%, GeometricMean: 61.60%, CohenKappa: 31.59%\t(rolling 500)\n",
      "[20,000] Accuracy: 68.20%, BalancedAccuracy: 64.38%, GeometricMean: 62.30%, CohenKappa: 29.92%\t(rolling 500)\n"
     ]
    },
    {
     "data": {
      "text/plain": [
       "Accuracy: 68.20%, BalancedAccuracy: 64.38%, GeometricMean: 62.30%, CohenKappa: 29.92%\t(rolling 500)"
      ]
     },
     "execution_count": 10,
     "metadata": {},
     "output_type": "execute_result"
    }
   ],
   "source": [
    "from river.ensemble import AdaptiveRandomForestClassifier\n",
    "\n",
    "model = AdaptiveRandomForestClassifier(n_models=10,nominal_attributes=['elevel', 'car', 'zipcode'])\n",
    "#metrics = Metrics(metrics=[Accuracy(),BalancedAccuracy(),GeometricMean(),CohenKappa()])\n",
    "metrics = Rolling(metric=Metrics(metrics=[Accuracy(),BalancedAccuracy(),GeometricMean(),CohenKappa()]),window_size=500)\n",
    "stream = iter_pandas(X=data[features], y=data['class'])\n",
    "\n",
    "progressive_val_score(dataset=stream,\n",
    "                      model=model,\n",
    "                      metric=metrics,\n",
    "                      print_every=500)"
   ]
  },
  {
   "cell_type": "markdown",
   "metadata": {},
   "source": [
    "## StreamingRandomPatches\n",
    "---\n",
    "We set the drift and warning detection options"
   ]
  },
  {
   "cell_type": "code",
   "execution_count": 11,
   "metadata": {},
   "outputs": [
    {
     "name": "stdout",
     "output_type": "stream",
     "text": [
      "[500] Accuracy: 85.17%, BalancedAccuracy: 79.78%, GeometricMean: 78.09%, CohenKappa: 64.14%\t(rolling 500)\n",
      "[1,000] Accuracy: 93.40%, BalancedAccuracy: 91.88%, GeometricMean: 91.77%, CohenKappa: 84.91%\t(rolling 500)\n",
      "[1,500] Accuracy: 94.00%, BalancedAccuracy: 92.58%, GeometricMean: 92.45%, CohenKappa: 86.68%\t(rolling 500)\n",
      "[2,000] Accuracy: 94.40%, BalancedAccuracy: 93.05%, GeometricMean: 92.95%, CohenKappa: 87.34%\t(rolling 500)\n",
      "[2,500] Accuracy: 93.60%, BalancedAccuracy: 93.00%, GeometricMean: 92.98%, CohenKappa: 85.44%\t(rolling 500)\n",
      "[3,000] Accuracy: 94.00%, BalancedAccuracy: 92.06%, GeometricMean: 91.88%, CohenKappa: 86.18%\t(rolling 500)\n",
      "[3,500] Accuracy: 94.00%, BalancedAccuracy: 92.60%, GeometricMean: 92.53%, CohenKappa: 85.82%\t(rolling 500)\n",
      "[4,000] Accuracy: 95.80%, BalancedAccuracy: 95.23%, GeometricMean: 95.21%, CohenKappa: 90.30%\t(rolling 500)\n",
      "[4,500] Accuracy: 94.80%, BalancedAccuracy: 93.32%, GeometricMean: 93.21%, CohenKappa: 88.17%\t(rolling 500)\n",
      "[5,000] Accuracy: 93.40%, BalancedAccuracy: 92.32%, GeometricMean: 92.25%, CohenKappa: 85.23%\t(rolling 500)\n",
      "[5,500] Accuracy: 54.80%, BalancedAccuracy: 52.56%, GeometricMean: 50.99%, CohenKappa: 5.19%\t(rolling 500)\n",
      "[6,000] Accuracy: 62.00%, BalancedAccuracy: 57.10%, GeometricMean: 52.23%, CohenKappa: 15.15%\t(rolling 500)\n",
      "[6,500] Accuracy: 64.20%, BalancedAccuracy: 58.85%, GeometricMean: 55.25%, CohenKappa: 18.70%\t(rolling 500)\n",
      "[7,000] Accuracy: 66.20%, BalancedAccuracy: 61.15%, GeometricMean: 56.50%, CohenKappa: 23.92%\t(rolling 500)\n",
      "[7,500] Accuracy: 68.00%, BalancedAccuracy: 64.75%, GeometricMean: 62.28%, CohenKappa: 30.81%\t(rolling 500)\n",
      "[8,000] Accuracy: 70.20%, BalancedAccuracy: 65.87%, GeometricMean: 63.58%, CohenKappa: 33.27%\t(rolling 500)\n",
      "[8,500] Accuracy: 67.80%, BalancedAccuracy: 63.62%, GeometricMean: 61.50%, CohenKappa: 28.33%\t(rolling 500)\n",
      "[9,000] Accuracy: 67.00%, BalancedAccuracy: 61.26%, GeometricMean: 56.88%, CohenKappa: 24.22%\t(rolling 500)\n",
      "[9,500] Accuracy: 63.60%, BalancedAccuracy: 58.65%, GeometricMean: 53.60%, CohenKappa: 18.52%\t(rolling 500)\n",
      "[10,000] Accuracy: 64.20%, BalancedAccuracy: 58.45%, GeometricMean: 52.28%, CohenKappa: 18.34%\t(rolling 500)\n",
      "[10,500] Accuracy: 48.00%, BalancedAccuracy: 53.95%, GeometricMean: 50.89%, CohenKappa: 6.33%\t(rolling 500)\n",
      "[11,000] Accuracy: 74.20%, BalancedAccuracy: 66.90%, GeometricMean: 63.28%, CohenKappa: 36.75%\t(rolling 500)\n",
      "[11,500] Accuracy: 84.40%, BalancedAccuracy: 79.82%, GeometricMean: 78.17%, CohenKappa: 63.73%\t(rolling 500)\n",
      "[12,000] Accuracy: 90.80%, BalancedAccuracy: 87.98%, GeometricMean: 87.55%, CohenKappa: 78.70%\t(rolling 500)\n",
      "[12,500] Accuracy: 91.60%, BalancedAccuracy: 89.97%, GeometricMean: 89.85%, CohenKappa: 80.70%\t(rolling 500)\n",
      "[13,000] Accuracy: 93.00%, BalancedAccuracy: 91.39%, GeometricMean: 91.27%, CohenKappa: 83.95%\t(rolling 500)\n",
      "[13,500] Accuracy: 94.00%, BalancedAccuracy: 92.94%, GeometricMean: 92.90%, CohenKappa: 85.87%\t(rolling 500)\n",
      "[14,000] Accuracy: 96.00%, BalancedAccuracy: 95.75%, GeometricMean: 95.74%, CohenKappa: 90.90%\t(rolling 500)\n",
      "[14,500] Accuracy: 94.40%, BalancedAccuracy: 92.96%, GeometricMean: 92.86%, CohenKappa: 87.22%\t(rolling 500)\n",
      "[15,000] Accuracy: 93.60%, BalancedAccuracy: 92.70%, GeometricMean: 92.66%, CohenKappa: 85.86%\t(rolling 500)\n",
      "[15,500] Accuracy: 61.00%, BalancedAccuracy: 61.48%, GeometricMean: 61.41%, CohenKappa: 22.21%\t(rolling 500)\n",
      "[16,000] Accuracy: 74.40%, BalancedAccuracy: 74.22%, GeometricMean: 74.21%, CohenKappa: 47.67%\t(rolling 500)\n",
      "[16,500] Accuracy: 77.80%, BalancedAccuracy: 75.54%, GeometricMean: 75.14%, CohenKappa: 51.27%\t(rolling 500)\n",
      "[17,000] Accuracy: 77.80%, BalancedAccuracy: 74.89%, GeometricMean: 73.93%, CohenKappa: 51.32%\t(rolling 500)\n",
      "[17,500] Accuracy: 77.00%, BalancedAccuracy: 74.96%, GeometricMean: 74.21%, CohenKappa: 51.11%\t(rolling 500)\n",
      "[18,000] Accuracy: 79.80%, BalancedAccuracy: 78.55%, GeometricMean: 78.40%, CohenKappa: 56.91%\t(rolling 500)\n",
      "[18,500] Accuracy: 78.60%, BalancedAccuracy: 75.74%, GeometricMean: 75.18%, CohenKappa: 52.13%\t(rolling 500)\n",
      "[19,000] Accuracy: 81.80%, BalancedAccuracy: 79.94%, GeometricMean: 79.51%, CohenKappa: 60.98%\t(rolling 500)\n",
      "[19,500] Accuracy: 77.80%, BalancedAccuracy: 75.53%, GeometricMean: 75.01%, CohenKappa: 51.80%\t(rolling 500)\n",
      "[20,000] Accuracy: 76.80%, BalancedAccuracy: 75.23%, GeometricMean: 74.94%, CohenKappa: 50.67%\t(rolling 500)\n"
     ]
    },
    {
     "data": {
      "text/plain": [
       "Accuracy: 76.80%, BalancedAccuracy: 75.23%, GeometricMean: 74.94%, CohenKappa: 50.67%\t(rolling 500)"
      ]
     },
     "execution_count": 11,
     "metadata": {},
     "output_type": "execute_result"
    }
   ],
   "source": [
    "from river.ensemble import SRPClassifier\n",
    "from river.tree import HoeffdingTreeClassifier\n",
    "from river.drift import ADWIN\n",
    "\n",
    "model = SRPClassifier(model=HoeffdingTreeClassifier(nominal_attributes=['elevel', 'car', 'zipcode']),\n",
    "                      n_models=10,\n",
    "                      drift_detector=ADWIN(delta=0.001),\n",
    "                      warning_detector=ADWIN(delta=0.01),\n",
    "                      seed=42)\n",
    "#metrics = Metrics(metrics=[Accuracy(),BalancedAccuracy(),GeometricMean(),CohenKappa()])\n",
    "metrics = Rolling(metric=Metrics(metrics=[Accuracy(),BalancedAccuracy(),GeometricMean(),CohenKappa()]),window_size=500)\n",
    "stream = iter_pandas(X=data[features], y=data['class'])\n",
    "\n",
    "progressive_val_score(dataset=stream, \n",
    "                      model=model, \n",
    "                      metric=metrics, \n",
    "                      print_every=500)"
   ]
  }
 ],
 "metadata": {
  "kernelspec": {
   "display_name": "Python 3 (ipykernel)",
   "language": "python",
   "name": "python3"
  },
  "language_info": {
   "codemirror_mode": {
    "name": "ipython",
    "version": 3
   },
   "file_extension": ".py",
   "mimetype": "text/x-python",
   "name": "python",
   "nbconvert_exporter": "python",
   "pygments_lexer": "ipython3",
   "version": "3.11.3"
  }
 },
 "nbformat": 4,
 "nbformat_minor": 4
}
